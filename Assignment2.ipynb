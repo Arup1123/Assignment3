{
 "cells": [
  {
   "cell_type": "markdown",
   "id": "e02ff9ab-20d4-4bee-9fad-dced4cacde02",
   "metadata": {},
   "source": [
    "Assignment 2"
   ]
  },
  {
   "cell_type": "markdown",
   "id": "b3022927-6846-4a72-833c-3e0e8dd31f75",
   "metadata": {},
   "source": [
    "Q1. How do you comment code in python? What are different types of comments? "
   ]
  },
  {
   "cell_type": "markdown",
   "id": "e5845ac1-f28b-424e-a764-3d7f8c4ec7bc",
   "metadata": {},
   "source": [
    "Ans: We write comment code in python by using #(hash) and ''' '''(Triple quotation).\n",
    "Types of comments:\n",
    "1. Single line comments:\n",
    "In this we use #.\n",
    "2. Multi line comments:\n",
    "In this we use ''' ''' ."
   ]
  },
  {
   "cell_type": "markdown",
   "id": "92a86906-95d1-482b-8199-39fd6b1b378b",
   "metadata": {},
   "source": [
    "Q2. What are variables in python? How do you declare and assign values to variables?"
   ]
  },
  {
   "cell_type": "markdown",
   "id": "0bb900bf-63d1-4eac-b0a1-1752a1da9805",
   "metadata": {},
   "source": [
    "Ans: Variable in python is a name which is used to refer a value. Variables holds the data during the execution of the program.\n",
    "At first write the variable, write equal sign, and write value which you assign.Variables must be in left side and values in right side.\n",
    "For example\n",
    "x=2\n",
    "where x is a variable and 2 is the value."
   ]
  },
  {
   "cell_type": "markdown",
   "id": "bca79192-ae1f-4b47-9c84-e829d1f7190b",
   "metadata": {},
   "source": [
    "Q3. How do you convert one data type to another in python?"
   ]
  },
  {
   "cell_type": "code",
   "execution_count": 3,
   "id": "bff158d9-0b5d-47de-9bbf-51cf31c38155",
   "metadata": {},
   "outputs": [
    {
     "name": "stdout",
     "output_type": "stream",
     "text": [
      "2\n",
      "2.0\n"
     ]
    }
   ],
   "source": [
    "#Ans: To convert the data type, we use type name as a function. There are several python's built in funcation like as int(),float(),bool() to \n",
    "\n",
    "# For example\n",
    "x=2.2\n",
    "y=int(x)\n",
    "print(y)\n",
    "a=float(2)\n",
    "print(a)"
   ]
  },
  {
   "cell_type": "markdown",
   "id": "fe471535-adb1-4de2-b7bf-ef17501a1263",
   "metadata": {},
   "source": [
    "Q4. How do you write and execute python script from the command line?"
   ]
  },
  {
   "cell_type": "markdown",
   "id": "61388937-8952-4953-b16e-e2e757cdc64e",
   "metadata": {},
   "source": [
    "Ans: At first open the command prompt, type python and enter.Now we can write python code in interactive mode.\n",
    "To execute a python code, at first write the python code in notepad, then open cmd , type python filename.py and enter."
   ]
  },
  {
   "cell_type": "markdown",
   "id": "75c0d65e-b76e-4860-875c-9b6a1ee49df7",
   "metadata": {},
   "source": [
    "Q5. Given a list my_list=[1,2,3,4,5]. Write the code to slice the list and obtain the sub_list=[2,3]."
   ]
  },
  {
   "cell_type": "code",
   "execution_count": 4,
   "id": "e2caf3a7-1d2d-4416-83a4-19ba67e49f65",
   "metadata": {},
   "outputs": [
    {
     "name": "stdout",
     "output_type": "stream",
     "text": [
      "[2, 3]\n"
     ]
    }
   ],
   "source": [
    "#Ans:\n",
    "my_list=[1,2,3,4,5]\n",
    "sub_list=my_list[1:3]\n",
    "print(sub_list)"
   ]
  },
  {
   "cell_type": "markdown",
   "id": "19e1cde6-33cd-48bd-a906-f9d40ffcaf33",
   "metadata": {},
   "source": [
    "Q6. What is a complex number in mathematics, and how is it represented in python? "
   ]
  },
  {
   "cell_type": "markdown",
   "id": "c37d7b76-38cc-401c-87cc-d06a53219c06",
   "metadata": {},
   "source": [
    "Ans: Complex numbers are the numbers which can be expressed in the form a+ib, where a,b are real numbers and i is an imarginary number and i=sqrt(-1). For example 2+3i is an complex number.\n",
    "In python complex number can be represent as a+bj, a and b are numbers.\n",
    "for example\n",
    "x=3+4j\n"
   ]
  },
  {
   "cell_type": "markdown",
   "id": "00478f6a-eb7b-4eb6-931f-4b502ea880fb",
   "metadata": {},
   "source": [
    "Q7. What is the correct way to declare a varriable named age and assign the value 25 to it?"
   ]
  },
  {
   "cell_type": "code",
   "execution_count": 1,
   "id": "945aeb1f-8431-4c09-885e-712156448590",
   "metadata": {},
   "outputs": [],
   "source": [
    "#Ans:\n",
    "age=25"
   ]
  },
  {
   "cell_type": "markdown",
   "id": "ebc59603-7592-4b64-8de5-b0091c6c37a0",
   "metadata": {},
   "source": [
    "Q8. Declare a variable named price and assign the value 9.99 to it. What data type does this variable belong to?"
   ]
  },
  {
   "cell_type": "code",
   "execution_count": 2,
   "id": "88be4de7-3df9-41b3-932e-f51fe0c8c39a",
   "metadata": {},
   "outputs": [
    {
     "name": "stdout",
     "output_type": "stream",
     "text": [
      "<class 'float'>\n"
     ]
    }
   ],
   "source": [
    "#Ans:\n",
    "price=9.99\n",
    "x=type(price)\n",
    "print(x)     # data type of price is float"
   ]
  },
  {
   "cell_type": "markdown",
   "id": "17d12b0a-14ff-490a-96e3-09465c9f4f21",
   "metadata": {},
   "source": [
    "Q9. Create a variable named name and assign your full name to it as a string. How would you print the value of this variable? "
   ]
  },
  {
   "cell_type": "code",
   "execution_count": 3,
   "id": "fad03120-c6d6-4ef6-a313-4d23602cf228",
   "metadata": {},
   "outputs": [
    {
     "name": "stdout",
     "output_type": "stream",
     "text": [
      "Arup Das\n"
     ]
    }
   ],
   "source": [
    "#Ans:\n",
    "name=\"Arup Das\"\n",
    "print(name)"
   ]
  },
  {
   "cell_type": "markdown",
   "id": "8b931bdb-6e93-44fe-bff0-a41d5b132de1",
   "metadata": {},
   "source": [
    "Q10. Given the string \"Hello World!\", extract the substring \"World\"."
   ]
  },
  {
   "cell_type": "code",
   "execution_count": 6,
   "id": "75b88c77-ac7d-4091-81c3-ce437c16f26e",
   "metadata": {},
   "outputs": [
    {
     "name": "stdout",
     "output_type": "stream",
     "text": [
      "World\n"
     ]
    }
   ],
   "source": [
    "#Ans:\n",
    "a=\"Hello World\"\n",
    "sub_string=a[6:len(a)]\n",
    "print(sub_string)"
   ]
  },
  {
   "cell_type": "markdown",
   "id": "8df54fe1-2caf-4f4e-b6c5-d5df9e418463",
   "metadata": {},
   "source": [
    "Q11. Create a variable named \"is_student\" and assign it a boolean value indicating whether you are currently a student or not."
   ]
  },
  {
   "cell_type": "code",
   "execution_count": null,
   "id": "87e37aa0-6e52-4a95-9c4a-e801d97b523c",
   "metadata": {},
   "outputs": [],
   "source": [
    "#Ans:\n",
    "is_student=True"
   ]
  }
 ],
 "metadata": {
  "kernelspec": {
   "display_name": "Python 3 (ipykernel)",
   "language": "python",
   "name": "python3"
  },
  "language_info": {
   "codemirror_mode": {
    "name": "ipython",
    "version": 3
   },
   "file_extension": ".py",
   "mimetype": "text/x-python",
   "name": "python",
   "nbconvert_exporter": "python",
   "pygments_lexer": "ipython3",
   "version": "3.10.8"
  }
 },
 "nbformat": 4,
 "nbformat_minor": 5
}
